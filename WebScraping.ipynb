{
 "cells": [
  {
   "cell_type": "markdown",
   "id": "654199c1-3d67-4339-8219-63ec6af1e073",
   "metadata": {},
   "source": [
    "# **Web Scraping**"
   ]
  },
  {
   "cell_type": "markdown",
   "id": "e7db9035-16a8-4def-96c3-c1caa986575f",
   "metadata": {},
   "source": [
    "## Table of Contents\n",
    "* Beautiful Soup Object\n",
    "* Tag\n",
    "* Children, Parents, and Siblings\n",
    "* HTML Attributes\n",
    "* Navigable String\n",
    "* Filter\n",
    "* find All\n",
    "* find\n",
    "* HTML Attributes\n",
    "* Navigable String"
   ]
  },
  {
   "cell_type": "markdown",
   "id": "3aa71b11-d00a-4494-9565-28cd2cfb373f",
   "metadata": {},
   "source": [
    "## Import the required libraries"
   ]
  },
  {
   "cell_type": "code",
   "execution_count": null,
   "id": "06b02960-b728-4b09-8930-9226e6be78a3",
   "metadata": {},
   "outputs": [],
   "source": [
    "from bs4 import BeautifulSoup # this module helps in web scrapping.\n",
    "import requests  # this module helps us to download a web page"
   ]
  },
  {
   "cell_type": "markdown",
   "id": "53c0ad3e-d7f4-4c67-9b16-b246612ca53f",
   "metadata": {},
   "source": [
    "## Beautiful Soup Objects"
   ]
  },
  {
   "cell_type": "markdown",
   "id": "3c3708a6-e1f5-4181-a3f3-ba59aa59894f",
   "metadata": {},
   "source": [
    "Beautiful Soup is a Python library for pulling data out of HTML and XML files, we will focus on HTML files. This is accomplished by representing the HTML as a set of objects with methods used to parse the HTML. We can navigate the HTML as a tree and/or filter out what we are looking for.\n",
    "\n",
    "Consider the following HTML:"
   ]
  },
  {
   "cell_type": "code",
   "execution_count": null,
   "id": "b6206f65-0b57-4f07-9ab2-ebf3ca297d7d",
   "metadata": {},
   "outputs": [],
   "source": [
    "%%html\n",
    "<!DOCTYPE html>\n",
    "<html>\n",
    "<head>\n",
    "<title>Page Title</title>\n",
    "</head>\n",
    "<body>\n",
    "<h3><b id='boldest'>Lebron James</b></h3>\n",
    "<p> Salary: $ 92,000,000 </p>\n",
    "<h3> Stephen Curry</h3>\n",
    "<p> Salary: $85,000, 000 </p>\n",
    "<h3> Kevin Durant </h3>\n",
    "<p> Salary: $73,200, 000</p>\n",
    "</body>\n",
    "</html>"
   ]
  },
  {
   "cell_type": "markdown",
   "id": "943e4dd3-b603-40d4-b142-1f177e0dd361",
   "metadata": {},
   "source": [
    "We can store it as a string in the variable HTML:"
   ]
  },
  {
   "cell_type": "code",
   "execution_count": null,
   "id": "dbf39312-c8ea-47c9-9bd9-916b8fb290fc",
   "metadata": {},
   "outputs": [],
   "source": [
    "html=\"<!DOCTYPE html><html><head><title>Page Title</title></head><body><h3><b id='boldest'>Lebron James</b></h3><p> Salary: $ 92,000,000 </p><h3> Stephen Curry</h3><p> Salary: $85,000, 000 </p><h3> Kevin Durant </h3><p> Salary: $73,200, 000</p></body></html>\""
   ]
  },
  {
   "cell_type": "markdown",
   "id": "a4d7306c-9fee-44be-a03f-43c40fabbb6c",
   "metadata": {},
   "source": [
    "To parse a document, pass it into the BeautifulSoup constructor"
   ]
  },
  {
   "cell_type": "code",
   "execution_count": null,
   "id": "7d7b197f-1b1d-4679-a881-d27f79bed0a7",
   "metadata": {},
   "outputs": [],
   "source": [
    "soup = BeautifulSoup(html, \"html.parser\")"
   ]
  },
  {
   "cell_type": "markdown",
   "id": "9ab41147-9af7-4388-ae5a-0b3b1c5dcfd9",
   "metadata": {},
   "source": [
    "We can use the method prettify() to display the HTML in the nested structure:"
   ]
  },
  {
   "cell_type": "code",
   "execution_count": null,
   "id": "c17479c6-401a-4123-a1cf-99fa1dd762ee",
   "metadata": {},
   "outputs": [],
   "source": [
    "print(soup.prettify())"
   ]
  },
  {
   "cell_type": "markdown",
   "id": "68cb742b-1d31-462a-94ed-05c1b95ca7e3",
   "metadata": {},
   "source": [
    "## Tags"
   ]
  },
  {
   "cell_type": "markdown",
   "id": "e2089ead-0f1f-4865-bfbf-88b07107a9e4",
   "metadata": {},
   "source": [
    "The Tag object corresponds to an HTML tag in the original document, for example, the tag title."
   ]
  },
  {
   "cell_type": "code",
   "execution_count": null,
   "id": "762574e1-ea23-4af5-92fd-df4f5bf76d8e",
   "metadata": {},
   "outputs": [],
   "source": [
    "tag_object=soup.title\n",
    "print(\"tag object:\",tag_object)"
   ]
  },
  {
   "cell_type": "markdown",
   "id": "709c7203-db96-443a-9f9c-45613c54b47a",
   "metadata": {},
   "source": [
    "If there is more than one Tag with the same name, the first element with that Tag name is called:"
   ]
  },
  {
   "cell_type": "code",
   "execution_count": null,
   "id": "17c74cb4-8d00-4dde-a2e5-9fe426eb040e",
   "metadata": {},
   "outputs": [],
   "source": [
    "tag_object=soup.h3\n",
    "tag_object"
   ]
  },
  {
   "cell_type": "markdown",
   "id": "662bcfc1-c010-48e7-a797-cefeb6571628",
   "metadata": {},
   "source": [
    "## Children, Parents, and Siblings"
   ]
  },
  {
   "cell_type": "markdown",
   "id": "ccc02817-3970-4225-afcc-6958a17ed5d2",
   "metadata": {},
   "source": [
    "The Tag object is a tree of objects we can access the child of the tag or navigate down the branch as follows:"
   ]
  },
  {
   "cell_type": "code",
   "execution_count": null,
   "id": "7cca0eb6-91ad-4163-a5bf-cfe7bdf2536e",
   "metadata": {},
   "outputs": [],
   "source": [
    "tag_child =tag_object.b\n",
    "tag_child"
   ]
  },
  {
   "cell_type": "markdown",
   "id": "5e3d10d8-f855-4f8f-8325-f23532850eba",
   "metadata": {},
   "source": [
    "You can access the parent"
   ]
  },
  {
   "cell_type": "code",
   "execution_count": null,
   "id": "086fab70-a0a8-4af1-a97d-262ccb99dee6",
   "metadata": {},
   "outputs": [],
   "source": [
    "parent_tag=tag_child.parent\n",
    "parent_tag"
   ]
  },
  {
   "cell_type": "markdown",
   "id": "0d031060-8d0d-40a2-98d4-81d30351642f",
   "metadata": {},
   "source": [
    "tag_object sibling is the paragraph element"
   ]
  },
  {
   "cell_type": "code",
   "execution_count": null,
   "id": "9909d9ca-18d2-4fed-9c20-586e625dd75f",
   "metadata": {},
   "outputs": [],
   "source": [
    "sibling_1=tag_object.next_sibling\n",
    "sibling_1"
   ]
  },
  {
   "cell_type": "markdown",
   "id": "7c20ea2d-aa98-4214-acbd-fb2e685b79d6",
   "metadata": {},
   "source": [
    "sibling_2 is the header element which is also a sibling of both sibling_1 and tag_object"
   ]
  },
  {
   "cell_type": "code",
   "execution_count": null,
   "id": "464f4fd4-3aad-4d0b-8db4-588e6ee1db35",
   "metadata": {},
   "outputs": [],
   "source": [
    "sibling_2=sibling_1.next_sibling\n",
    "sibling_2"
   ]
  },
  {
   "cell_type": "markdown",
   "id": "bc38581d-889a-46f9-b5b7-627269b93d06",
   "metadata": {},
   "source": [
    "## HTML Attributes"
   ]
  },
  {
   "cell_type": "markdown",
   "id": "ecb26214-df56-4315-b7c9-6753c5f909b2",
   "metadata": {},
   "source": [
    "You can access a tag’s attributes by treating the tag like a dictionary:"
   ]
  },
  {
   "cell_type": "code",
   "execution_count": null,
   "id": "1135ed0c-8dd8-4c69-9f95-014b10c67924",
   "metadata": {},
   "outputs": [],
   "source": [
    "tag_child['id']"
   ]
  },
  {
   "cell_type": "markdown",
   "id": "da1c2982-aeac-4882-894d-d8ad8494e720",
   "metadata": {},
   "source": [
    "You can access that dictionary directly as attrs:"
   ]
  },
  {
   "cell_type": "code",
   "execution_count": null,
   "id": "91b1cc8a-eb7f-4d61-8acc-99191b52b12d",
   "metadata": {},
   "outputs": [],
   "source": [
    "tag_child.attrs"
   ]
  },
  {
   "cell_type": "markdown",
   "id": "08547fa2-6e13-4112-9c00-3bee6187d49b",
   "metadata": {},
   "source": [
    "## Navigable String"
   ]
  },
  {
   "cell_type": "markdown",
   "id": "6937bf64-784b-43eb-8c7a-7200fd2536fc",
   "metadata": {},
   "source": [
    "we can obtain the name of the first player by extracting the sting of the Tag object tag_child as follows:"
   ]
  },
  {
   "cell_type": "code",
   "execution_count": null,
   "id": "7723b6ce-f01f-4add-a9f7-414a8ef9a77d",
   "metadata": {},
   "outputs": [],
   "source": [
    "tag_string=tag_child.string\n",
    "tag_string"
   ]
  },
  {
   "cell_type": "markdown",
   "id": "0abd9620-84ff-4705-a65d-7b20093aee8e",
   "metadata": {},
   "source": [
    "## Filter"
   ]
  },
  {
   "cell_type": "markdown",
   "id": "9357ffcc-5ebd-4b90-aef0-ef9a7f0bd061",
   "metadata": {},
   "source": [
    "Filters allow you to find complex patterns, the simplest filter is a string."
   ]
  },
  {
   "cell_type": "code",
   "execution_count": null,
   "id": "a3e6177e-7736-4dd0-8e89-c7558bd65b34",
   "metadata": {},
   "outputs": [],
   "source": [
    "%%html\n",
    "<table>\n",
    "  <tr>\n",
    "    <td id='flight' >Flight No</td>\n",
    "    <td>Launch site</td> \n",
    "    <td>Payload mass</td>\n",
    "   </tr>\n",
    "  <tr> \n",
    "    <td>1</td>\n",
    "    <td><a href='https://en.wikipedia.org/wiki/Florida'>Florida</a></td>\n",
    "    <td>300 kg</td>\n",
    "  </tr>\n",
    "  <tr>\n",
    "    <td>2</td>\n",
    "    <td><a href='https://en.wikipedia.org/wiki/Texas'>Texas</a></td>\n",
    "    <td>94 kg</td>\n",
    "  </tr>\n",
    "  <tr>\n",
    "    <td>3</td>\n",
    "    <td><a href='https://en.wikipedia.org/wiki/Florida'>Florida<a> </td>\n",
    "    <td>80 kg</td>\n",
    "  </tr>\n",
    "</table>"
   ]
  },
  {
   "cell_type": "markdown",
   "id": "ad40982a-1c63-4b5c-9cdd-efb0c387bb51",
   "metadata": {},
   "source": [
    "We can store it as a string in the variable table:"
   ]
  },
  {
   "cell_type": "code",
   "execution_count": null,
   "id": "546c840c-c666-41a2-beb8-bb1b3307885a",
   "metadata": {},
   "outputs": [],
   "source": [
    "table=\"<table><tr><td id='flight'>Flight No</td><td>Launch site</td> <td>Payload mass</td></tr><tr> <td>1</td><td><a href='https://en.wikipedia.org/wiki/Florida'>Florida<a></td><td>300 kg</td></tr><tr><td>2</td><td><a href='https://en.wikipedia.org/wiki/Texas'>Texas</a></td><td>94 kg</td></tr><tr><td>3</td><td><a href='https://en.wikipedia.org/wiki/Florida'>Florida<a> </td><td>80 kg</td></tr></table>\""
   ]
  },
  {
   "cell_type": "code",
   "execution_count": null,
   "id": "8a9482fc-6ae9-43dc-bee7-ab9cc22e1fe8",
   "metadata": {},
   "outputs": [],
   "source": [
    "table_bs = BeautifulSoup(table, \"html.parser\")"
   ]
  },
  {
   "cell_type": "markdown",
   "id": "379c54d3-eb3b-4ad5-bb31-23ff67b9c9f1",
   "metadata": {},
   "source": [
    "## find All"
   ]
  },
  {
   "cell_type": "markdown",
   "id": "eb1cf8e9-556e-47d9-a6d4-e801fa12813e",
   "metadata": {},
   "source": [
    "The find_all() method looks through a tag’s descendants and retrieves all descendants that match your filters.\n",
    "\n",
    "The Method signature for find_all(name, attrs, recursive, string, limit, **kwargs)"
   ]
  },
  {
   "cell_type": "markdown",
   "id": "1fe410bc-e629-46ff-ae3a-3eee76ece4fb",
   "metadata": {},
   "source": [
    "### Name\n",
    "When we set the name parameter to a tag name, the method will extract all the tags with that name and its children."
   ]
  },
  {
   "cell_type": "code",
   "execution_count": null,
   "id": "80f9f142-51f9-41fd-9a92-b9f68f566a16",
   "metadata": {},
   "outputs": [],
   "source": [
    "table_rows=table_bs.find_all('tr')\n",
    "table_rows"
   ]
  },
  {
   "cell_type": "code",
   "execution_count": null,
   "id": "f997acd2-019e-416d-8d45-862cc38a62cc",
   "metadata": {},
   "outputs": [],
   "source": [
    "first_row =table_rows[0]\n",
    "first_row"
   ]
  },
  {
   "cell_type": "markdown",
   "id": "6d24b899-5428-488a-9bd1-4347a33f140e",
   "metadata": {},
   "source": [
    "If we iterate through the list, each element corresponds to a row in the table:"
   ]
  },
  {
   "cell_type": "code",
   "execution_count": null,
   "id": "0ae2db95-acd7-45ed-b4ec-4127e454e65c",
   "metadata": {},
   "outputs": [],
   "source": [
    "for i,row in enumerate(table_rows):\n",
    "    print(\"row\",i,\"is\",row)\n",
    "    "
   ]
  },
  {
   "cell_type": "markdown",
   "id": "417c890f-9dd1-4152-8fbe-339a05c319b9",
   "metadata": {},
   "source": [
    "As row is a cell object, we can apply the method find_all to it and extract table cells in the object cells using the tag td, this is all the children with the name td. The result is a list, each element corresponds to a cell and is a Tag object, we can iterate through this list as well. We can extract the content using the string attribute."
   ]
  },
  {
   "cell_type": "code",
   "execution_count": null,
   "id": "476bae3c-a13e-4096-ad8a-59d0056be744",
   "metadata": {},
   "outputs": [],
   "source": [
    "for i,row in enumerate(table_rows):\n",
    "    print(\"row\",i)\n",
    "    cells=row.find_all('td')\n",
    "    for j,cell in enumerate(cells):\n",
    "        print('colunm',j,\"cell\",cell)"
   ]
  },
  {
   "cell_type": "markdown",
   "id": "75dd7e2b-1537-4222-8f01-cc2f9f2ad9a7",
   "metadata": {},
   "source": [
    "If we use a list we can match against any item in that list."
   ]
  },
  {
   "cell_type": "code",
   "execution_count": null,
   "id": "5816258a-4210-4668-ba2f-d7bec297c9b8",
   "metadata": {},
   "outputs": [],
   "source": [
    "list_input=table_bs .find_all(name=[\"tr\", \"td\"])\n",
    "list_input"
   ]
  },
  {
   "cell_type": "markdown",
   "id": "d67c6e41-f42f-41fa-937f-c65c9a79ac9f",
   "metadata": {},
   "source": [
    "### Attributes"
   ]
  },
  {
   "cell_type": "markdown",
   "id": "6e43b100-4434-4757-9b14-f671330ed41f",
   "metadata": {},
   "source": [
    "If the argument is not recognized it will be turned into a filter on the tag’s attributes. For example, the first td elements have a value of id of flight, therefore we can filter based on that id value."
   ]
  },
  {
   "cell_type": "code",
   "execution_count": null,
   "id": "51cd5976-66a4-4c0e-b1a9-44ba86121d7f",
   "metadata": {},
   "outputs": [],
   "source": [
    "table_bs.find_all(id=\"flight\")"
   ]
  },
  {
   "cell_type": "markdown",
   "id": "1b47e124-0384-4411-9292-f57233db5a68",
   "metadata": {},
   "source": [
    "We can find all the elements that have links to the Florida Wikipedia page:"
   ]
  },
  {
   "cell_type": "code",
   "execution_count": null,
   "id": "82a9aa1d-8056-48f7-a219-989f95eee5ea",
   "metadata": {},
   "outputs": [],
   "source": [
    "list_input=table_bs.find_all(href=\"https://en.wikipedia.org/wiki/Florida\")\n",
    "list_input"
   ]
  },
  {
   "cell_type": "markdown",
   "id": "3cbe29c6-0714-449b-af6d-0ea5669cac27",
   "metadata": {},
   "source": [
    "If we set the href attribute to True, regardless of what the value is, the code finds all tags with href value:"
   ]
  },
  {
   "cell_type": "code",
   "execution_count": null,
   "id": "9f749746-d09d-4180-a7e4-4f6760e7b1ef",
   "metadata": {},
   "outputs": [],
   "source": [
    "table_bs.find_all(href=True)"
   ]
  },
  {
   "cell_type": "markdown",
   "id": "38798ab4-b591-4503-b0d9-8f7cffa9bde0",
   "metadata": {},
   "source": [
    "### string"
   ]
  },
  {
   "cell_type": "markdown",
   "id": "64383b94-c542-4df9-a3df-3bcfc0daf64a",
   "metadata": {},
   "source": [
    "With string you can search for strings instead of tags, where we find all the elments with Florida:"
   ]
  },
  {
   "cell_type": "code",
   "execution_count": null,
   "id": "92561119-6ac8-47f6-b832-fe5ddde0c271",
   "metadata": {},
   "outputs": [],
   "source": [
    "table_bs.find_all(string=\"Florida\")"
   ]
  },
  {
   "cell_type": "markdown",
   "id": "0f658166-d9ff-4e45-a517-500d9b25255d",
   "metadata": {},
   "source": [
    "## find"
   ]
  },
  {
   "cell_type": "markdown",
   "id": "d72c6564-cf4f-42c8-9259-0ee05761c449",
   "metadata": {},
   "source": [
    "The find_all() method scans the entire document looking for results, it’s if you are looking for one element you can use the find() method to find the first element in the document. Consider the following two table:"
   ]
  },
  {
   "cell_type": "code",
   "execution_count": null,
   "id": "97ff2af2-7e32-40b4-b600-ead6a8f3f8ba",
   "metadata": {},
   "outputs": [],
   "source": [
    "%%html\n",
    "<h3>Rocket Launch </h3>\n",
    "\n",
    "<p>\n",
    "<table class='rocket'>\n",
    "  <tr>\n",
    "    <td>Flight No</td>\n",
    "    <td>Launch site</td> \n",
    "    <td>Payload mass</td>\n",
    "  </tr>\n",
    "  <tr>\n",
    "    <td>1</td>\n",
    "    <td>Florida</td>\n",
    "    <td>300 kg</td>\n",
    "  </tr>\n",
    "  <tr>\n",
    "    <td>2</td>\n",
    "    <td>Texas</td>\n",
    "    <td>94 kg</td>\n",
    "  </tr>\n",
    "  <tr>\n",
    "    <td>3</td>\n",
    "    <td>Florida </td>\n",
    "    <td>80 kg</td>\n",
    "  </tr>\n",
    "</table>\n",
    "</p>\n",
    "<p>\n",
    "\n",
    "<h3>Pizza Party  </h3>\n",
    "  \n",
    "    \n",
    "<table class='pizza'>\n",
    "  <tr>\n",
    "    <td>Pizza Place</td>\n",
    "    <td>Orders</td> \n",
    "    <td>Slices </td>\n",
    "   </tr>\n",
    "  <tr>\n",
    "    <td>Domino's Pizza</td>\n",
    "    <td>10</td>\n",
    "    <td>100</td>\n",
    "  </tr>\n",
    "  <tr>\n",
    "    <td>Little Caesars</td>\n",
    "    <td>12</td>\n",
    "    <td >144 </td>\n",
    "  </tr>\n",
    "  <tr>\n",
    "    <td>Papa John's </td>\n",
    "    <td>15 </td>\n",
    "    <td>165</td>\n",
    "  </tr>\n"
   ]
  },
  {
   "cell_type": "markdown",
   "id": "9bce0391-0a8a-4ae9-8fac-ced07954f57e",
   "metadata": {},
   "source": [
    "We store the HTML as a Python string and assign two_tables:"
   ]
  },
  {
   "cell_type": "code",
   "execution_count": null,
   "id": "4b67f58b-cf9a-4f6a-9ed8-d33839ee45e0",
   "metadata": {},
   "outputs": [],
   "source": [
    "two_tables=\"<h3>Rocket Launch </h3><p><table class='rocket'><tr><td>Flight No</td><td>Launch site</td> <td>Payload mass</td></tr><tr><td>1</td><td>Florida</td><td>300 kg</td></tr><tr><td>2</td><td>Texas</td><td>94 kg</td></tr><tr><td>3</td><td>Florida </td><td>80 kg</td></tr></table></p><p><h3>Pizza Party  </h3><table class='pizza'><tr><td>Pizza Place</td><td>Orders</td> <td>Slices </td></tr><tr><td>Domino's Pizza</td><td>10</td><td>100</td></tr><tr><td>Little Caesars</td><td>12</td><td >144 </td></tr><tr><td>Papa John's </td><td>15 </td><td>165</td></tr>\""
   ]
  },
  {
   "cell_type": "markdown",
   "id": "8d9843c8-e3e3-4569-a863-7b465a4c0c47",
   "metadata": {},
   "source": [
    "We create a BeautifulSoup object two_tables_bs"
   ]
  },
  {
   "cell_type": "code",
   "execution_count": null,
   "id": "72a87f9a-1cc4-4e5a-90a1-4232334f8747",
   "metadata": {},
   "outputs": [],
   "source": [
    "two_tables_bs= BeautifulSoup(two_tables, 'html.parser')"
   ]
  },
  {
   "cell_type": "markdown",
   "id": "beec2e71-21e0-4c1d-b97a-e6014ca24f29",
   "metadata": {},
   "source": [
    "We can find the first table using the tag name table"
   ]
  },
  {
   "cell_type": "code",
   "execution_count": null,
   "id": "56941d2f-3aa2-43b1-bfa9-610229650522",
   "metadata": {},
   "outputs": [],
   "source": [
    "two_tables_bs.find(\"table\")"
   ]
  },
  {
   "cell_type": "markdown",
   "id": "00c5f65f-8862-438d-bed5-ac53e04f26cf",
   "metadata": {},
   "source": [
    "We can filter on the class attribute to find the second table, but because class is a keyword in Python, we add an underscore."
   ]
  },
  {
   "cell_type": "code",
   "execution_count": null,
   "id": "d2a16bb5-b76f-4d4f-8aea-52fb27aa307c",
   "metadata": {},
   "outputs": [],
   "source": [
    "two_tables_bs.find(\"table\",class_='pizza')"
   ]
  },
  {
   "cell_type": "markdown",
   "id": "97c0ef00-8ecd-45a4-817d-976cc6d26a91",
   "metadata": {},
   "source": [
    "## Downloading And Scraping The Contents Of A Web Page"
   ]
  },
  {
   "cell_type": "markdown",
   "id": "a132f46c-3228-4a51-af5f-847170aadc16",
   "metadata": {},
   "source": [
    "We Download the contents of the web page:"
   ]
  },
  {
   "cell_type": "code",
   "execution_count": null,
   "id": "472d4d03-7fe0-40fa-8c91-4dc18cc9f334",
   "metadata": {},
   "outputs": [],
   "source": [
    "url = \"http://www.ibm.com\""
   ]
  },
  {
   "cell_type": "markdown",
   "id": "23676bdc-6ac5-46be-a2f2-bd40475e4cd4",
   "metadata": {},
   "source": [
    "We use get to download the contents of the webpage in text format and store in a variable called data:"
   ]
  },
  {
   "cell_type": "code",
   "execution_count": null,
   "id": "dd6b8514-d43d-410f-8ba9-e61a4b76a510",
   "metadata": {},
   "outputs": [],
   "source": [
    "data  = requests.get(url).text "
   ]
  },
  {
   "cell_type": "markdown",
   "id": "1e4bad71-3b08-43f4-8c4f-d8c5757a051e",
   "metadata": {},
   "source": [
    "We create a BeautifulSoup object using the BeautifulSoup constructor"
   ]
  },
  {
   "cell_type": "code",
   "execution_count": null,
   "id": "11b997af-9e24-449b-9e6f-3543611c3b96",
   "metadata": {},
   "outputs": [],
   "source": [
    "soup = BeautifulSoup(data,\"html.parser\")  # create a soup object using the variable 'data'"
   ]
  },
  {
   "cell_type": "markdown",
   "id": "0b3fb9d7-d794-48e5-9b31-474ecb3833e5",
   "metadata": {},
   "source": [
    "Scrape all links"
   ]
  },
  {
   "cell_type": "code",
   "execution_count": null,
   "id": "576f2c14-6b23-4ca7-96a7-f6b7accb5b89",
   "metadata": {},
   "outputs": [],
   "source": [
    "for link in soup.find_all('a',href=True):  # in html anchor/link is represented by the tag <a>\n",
    "\n",
    "    print(link.get('href'))"
   ]
  },
  {
   "cell_type": "markdown",
   "id": "5010cb30-c56a-488e-8186-664081bf18d3",
   "metadata": {},
   "source": [
    "### Scrape all images Tags"
   ]
  },
  {
   "cell_type": "code",
   "execution_count": null,
   "id": "f4214c61-7778-4d81-8f6a-5ad879823645",
   "metadata": {},
   "outputs": [],
   "source": [
    "for link in soup.find_all('img'):# in html image is represented by the tag <img>\n",
    "    print(link)\n",
    "    print(link.get('src'))"
   ]
  },
  {
   "cell_type": "markdown",
   "id": "d26b8a04-dc8c-4408-a1c0-51ddd57b3029",
   "metadata": {},
   "source": [
    "## Scrape data from HTML tables"
   ]
  },
  {
   "cell_type": "markdown",
   "id": "dd33ca12-0f3d-403d-85a4-145c3502c627",
   "metadata": {},
   "source": [
    "The below url contains an html table with data about colors and color codes."
   ]
  },
  {
   "cell_type": "code",
   "execution_count": null,
   "id": "c5cc3726-a505-44ad-9923-116362ed1652",
   "metadata": {},
   "outputs": [],
   "source": [
    "url = \"https://cf-courses-data.s3.us.cloud-object-storage.appdomain.cloud/IBM-DA0321EN-SkillsNetwork/labs/datasets/HTMLColorCodes.html\""
   ]
  },
  {
   "cell_type": "markdown",
   "id": "8dac4949-e465-47e6-a667-5aeafe2aebbe",
   "metadata": {},
   "source": [
    "get the contents of the webpage in text format and store in a variable called data"
   ]
  },
  {
   "cell_type": "code",
   "execution_count": null,
   "id": "5d8be513-c6d6-4b8e-9d16-d100dc173fd3",
   "metadata": {},
   "outputs": [],
   "source": [
    "data  = requests.get(url).text"
   ]
  },
  {
   "cell_type": "code",
   "execution_count": null,
   "id": "005312ec-ea62-4468-9ec0-3a782df082ab",
   "metadata": {},
   "outputs": [],
   "source": [
    "soup = BeautifulSoup(data,\"html.parser\")"
   ]
  },
  {
   "cell_type": "code",
   "execution_count": null,
   "id": "5ef817d7-9e14-4bd6-b9a1-df12107e33e5",
   "metadata": {},
   "outputs": [],
   "source": [
    "#find a html table in the web page\n",
    "table = soup.find('table') # in html table is represented by the tag <table>"
   ]
  },
  {
   "cell_type": "code",
   "execution_count": null,
   "id": "f3c16d61-bf1b-478c-9a95-0033133d573c",
   "metadata": {},
   "outputs": [],
   "source": [
    "#Get all rows from the table\n",
    "for row in table.find_all('tr'): # in html table row is represented by the tag <tr>\n",
    "    # Get all columns in each row.\n",
    "    cols = row.find_all('td') # in html a column is represented by the tag <td>\n",
    "    color_name = cols[2].string # store the value in column 3 as color_name\n",
    "    color_code = cols[3].string # store the value in column 4 as color_code\n",
    "    print(\"{}--->{}\".format(color_name,color_code))"
   ]
  },
  {
   "cell_type": "markdown",
   "id": "e63526b3-0d86-46c8-9eb4-af93b30df28d",
   "metadata": {},
   "source": [
    "## Scrape data from HTML tables into a DataFrame using BeautifulSoup and Pandas read_html"
   ]
  },
  {
   "cell_type": "code",
   "execution_count": null,
   "id": "0306494b-d71a-4528-8ca2-8ebc8ac4a0f4",
   "metadata": {},
   "outputs": [],
   "source": [
    "import pandas as pd"
   ]
  },
  {
   "cell_type": "code",
   "execution_count": null,
   "id": "7d91c23e-d318-4e95-b187-135a48374fb2",
   "metadata": {},
   "outputs": [],
   "source": [
    "#The below url contains html tables with data about world population.\n",
    "url = \"https://en.wikipedia.org/wiki/World_population\""
   ]
  },
  {
   "cell_type": "code",
   "execution_count": null,
   "id": "bbd2b505-f18f-4ac2-93d2-304dcb7b6919",
   "metadata": {},
   "outputs": [],
   "source": [
    "# get the contents of the webpage in text format and store in a variable called data\n",
    "data  = requests.get(url).text"
   ]
  },
  {
   "cell_type": "code",
   "execution_count": null,
   "id": "58405b77-4668-4070-8d3e-85d38340cf56",
   "metadata": {},
   "outputs": [],
   "source": [
    "soup = BeautifulSoup(data,\"html.parser\")"
   ]
  },
  {
   "cell_type": "code",
   "execution_count": null,
   "id": "a5ef1171-2699-45d4-b836-4c1f1d0cd668",
   "metadata": {},
   "outputs": [],
   "source": [
    "#find all html tables in the web page\n",
    "tables = soup.find_all('table') # in html table is represented by the tag <table>"
   ]
  },
  {
   "cell_type": "code",
   "execution_count": null,
   "id": "2676325b-e348-44a9-8e70-a1d0ddfd89ad",
   "metadata": {},
   "outputs": [],
   "source": [
    "# we can see how many tables were found by checking the length of the tables list\n",
    "len(tables)"
   ]
  },
  {
   "cell_type": "markdown",
   "id": "ec3273fe-ec41-4d5a-b8f4-044bfbebe42c",
   "metadata": {},
   "source": [
    "We can now use the pandas function read_html and give it the string version of the table as well as the flavor which is the parsing engine bs4."
   ]
  },
  {
   "cell_type": "code",
   "execution_count": null,
   "id": "d851bdf3-c40d-4ee5-99a1-e44a172e33d3",
   "metadata": {},
   "outputs": [],
   "source": [
    "pd.read_html(str(tables[5]), flavor='bs4')"
   ]
  },
  {
   "cell_type": "markdown",
   "id": "b6e09c7f-8163-4b0f-98af-a424312f0403",
   "metadata": {},
   "source": [
    "The function read_html always returns a list of DataFrames so we must pick the one we want out of the list."
   ]
  },
  {
   "cell_type": "code",
   "execution_count": null,
   "id": "eaa145ee-f499-46bd-862c-e72748f7a367",
   "metadata": {},
   "outputs": [],
   "source": [
    "population_data_read_html = pd.read_html(str(tables[5]), flavor='bs4')[0]\n",
    "\n",
    "population_data_read_html"
   ]
  },
  {
   "cell_type": "markdown",
   "id": "c2f333c3-4d53-44ae-bfe4-f70a9b380d41",
   "metadata": {},
   "source": [
    "## Scrape data from HTML tables into a DataFrame using read_html"
   ]
  },
  {
   "cell_type": "markdown",
   "id": "bc9017d1-4aee-4e05-b093-c451f9e5f8a3",
   "metadata": {},
   "source": [
    "We can also use the read_html function to directly get DataFrames from a url."
   ]
  },
  {
   "cell_type": "code",
   "execution_count": null,
   "id": "775f48e6-dfa4-4b33-82b1-fef9e4449249",
   "metadata": {},
   "outputs": [],
   "source": [
    "dataframe_list = pd.read_html(url, flavor='bs4')"
   ]
  },
  {
   "cell_type": "code",
   "execution_count": null,
   "id": "827a459e-2799-4005-9f68-71d9f82cfc1e",
   "metadata": {},
   "outputs": [],
   "source": [
    "dataframe_list[5]"
   ]
  },
  {
   "cell_type": "markdown",
   "id": "0de82024-fa4b-43d8-aa2e-a21b14c9ba1f",
   "metadata": {},
   "source": [
    "We can also use the match parameter to select the specific table we want. If the table contains a string matching the text it will be read."
   ]
  },
  {
   "cell_type": "code",
   "execution_count": null,
   "id": "a1967c10-1576-49d6-93e5-3261bf19cb7d",
   "metadata": {},
   "outputs": [],
   "source": [
    "pd.read_html(url, match=\"10 most densely populated countries\", flavor='bs4')[0]"
   ]
  }
 ],
 "metadata": {
  "kernelspec": {
   "display_name": "Python 3 (ipykernel)",
   "language": "python",
   "name": "python3"
  },
  "language_info": {
   "codemirror_mode": {
    "name": "ipython",
    "version": 3
   },
   "file_extension": ".py",
   "mimetype": "text/x-python",
   "name": "python",
   "nbconvert_exporter": "python",
   "pygments_lexer": "ipython3",
   "version": "3.10.9"
  }
 },
 "nbformat": 4,
 "nbformat_minor": 5
}
